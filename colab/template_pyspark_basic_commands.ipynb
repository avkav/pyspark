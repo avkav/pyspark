{
  "cells": [
    {
      "cell_type": "markdown",
      "metadata": {
        "id": "view-in-github",
        "colab_type": "text"
      },
      "source": [
        "<a href=\"https://colab.research.google.com/github/avkav/pyspark/blob/main/colab/template_pyspark_basic_commands.ipynb\" target=\"_parent\"><img src=\"https://colab.research.google.com/assets/colab-badge.svg\" alt=\"Open In Colab\"/></a>"
      ]
    },
    {
      "cell_type": "markdown",
      "metadata": {
        "id": "EawdhwUzh1HN"
      },
      "source": [
        "# Libraries\n",
        "\n",
        "Always execute this cell at the beginning"
      ]
    },
    {
      "cell_type": "code",
      "execution_count": 94,
      "metadata": {
        "colab": {
          "base_uri": "https://localhost:8080/",
          "height": 586
        },
        "collapsed": true,
        "id": "Gaf6sUupOka6",
        "outputId": "aaeb3f57-9228-40e5-f76b-ad4c0810f204"
      },
      "outputs": [
        {
          "output_type": "stream",
          "name": "stdout",
          "text": [
            "\u001b[33m\r0% [Working]\u001b[0m\r            \rHit:1 https://cloud.r-project.org/bin/linux/ubuntu jammy-cran40/ InRelease\n",
            "\u001b[33m\r0% [Connecting to archive.ubuntu.com (185.125.190.83)] [Waiting for headers] [C\u001b[0m\r                                                                               \rHit:2 https://developer.download.nvidia.com/compute/cuda/repos/ubuntu2204/x86_64  InRelease\n",
            "Hit:3 http://security.ubuntu.com/ubuntu jammy-security InRelease\n",
            "Hit:4 https://r2u.stat.illinois.edu/ubuntu jammy InRelease\n",
            "Hit:5 http://archive.ubuntu.com/ubuntu jammy InRelease\n",
            "Hit:6 http://archive.ubuntu.com/ubuntu jammy-updates InRelease\n",
            "Hit:7 http://archive.ubuntu.com/ubuntu jammy-backports InRelease\n",
            "Hit:8 https://ppa.launchpadcontent.net/deadsnakes/ppa/ubuntu jammy InRelease\n",
            "Hit:9 https://ppa.launchpadcontent.net/graphics-drivers/ppa/ubuntu jammy InRelease\n",
            "Hit:10 https://ppa.launchpadcontent.net/ubuntugis/ppa/ubuntu jammy InRelease\n",
            "Reading package lists... Done\n",
            "Building dependency tree... Done\n",
            "Reading state information... Done\n",
            "52 packages can be upgraded. Run 'apt list --upgradable' to see them.\n",
            "\u001b[1;33mW: \u001b[0mSkipping acquire of configured file 'main/source/Sources' as repository 'https://r2u.stat.illinois.edu/ubuntu jammy InRelease' does not seem to provide it (sources.list entry misspelt?)\u001b[0m\n",
            "tar: spark-3.2.1-bin-hadoop3.2.tgz: Cannot open: No such file or directory\n",
            "tar: Error is not recoverable: exiting now\n",
            "Requirement already satisfied: pyspark in /usr/local/lib/python3.10/dist-packages (3.5.3)\n",
            "Requirement already satisfied: py4j==0.10.9.7 in /usr/local/lib/python3.10/dist-packages (from pyspark) (0.10.9.7)\n",
            "Requirement already satisfied: py4j in /usr/local/lib/python3.10/dist-packages (0.10.9.7)\n"
          ]
        },
        {
          "output_type": "execute_result",
          "data": {
            "text/plain": [
              "<pyspark.sql.session.SparkSession at 0x7fa9930d8fd0>"
            ],
            "text/html": [
              "\n",
              "            <div>\n",
              "                <p><b>SparkSession - in-memory</b></p>\n",
              "                \n",
              "        <div>\n",
              "            <p><b>SparkContext</b></p>\n",
              "\n",
              "            <p><a href=\"http://c4ed90af4b9c:4040\">Spark UI</a></p>\n",
              "\n",
              "            <dl>\n",
              "              <dt>Version</dt>\n",
              "                <dd><code>v3.5.3</code></dd>\n",
              "              <dt>Master</dt>\n",
              "                <dd><code>local[*]</code></dd>\n",
              "              <dt>AppName</dt>\n",
              "                <dd><code>Our First Spark Example</code></dd>\n",
              "            </dl>\n",
              "        </div>\n",
              "        \n",
              "            </div>\n",
              "        "
            ]
          },
          "metadata": {},
          "execution_count": 94
        }
      ],
      "source": [
        "!sudo apt update\n",
        "!apt-get install openjdk-8-jdk-headless -qq > /dev/null\n",
        "#Check this site for the latest download link https://www.apache.org/dyn/closer.lua/spark/spark-3.2.1/spark-3.2.1-bin-hadoop3.2.tgz\n",
        "!wget -q https://dlcdn.apache.org/spark/spark-3.2.1/spark-3.2.1-bin-hadoop3.2.tgz\n",
        "!tar xf spark-3.2.1-bin-hadoop3.2.tgz\n",
        "!pip install -q findspark\n",
        "!pip install pyspark\n",
        "!pip install py4j\n",
        "\n",
        "import os\n",
        "import sys\n",
        "# os.environ[\"JAVA_HOME\"] = \"/usr/lib/jvm/java-8-openjdk-amd64\"\n",
        "# os.environ[\"SPARK_HOME\"] = \"/content/spark-3.2.1-bin-hadoop3.2\"\n",
        "\n",
        "\n",
        "import findspark\n",
        "findspark.init()\n",
        "findspark.find()\n",
        "\n",
        "import pyspark\n",
        "\n",
        "from pyspark.sql import DataFrame, SparkSession\n",
        "from typing import List\n",
        "import pyspark.sql.types as T\n",
        "import pyspark.sql.functions as F\n",
        "\n",
        "spark= SparkSession \\\n",
        "       .builder \\\n",
        "       .appName(\"Our First Spark Example\") \\\n",
        "       .getOrCreate()\n",
        "\n",
        "spark"
      ]
    },
    {
      "cell_type": "markdown",
      "metadata": {
        "id": "SPNzdS97iKL0"
      },
      "source": [
        "# Create a DataFrame"
      ]
    },
    {
      "cell_type": "code",
      "execution_count": 95,
      "metadata": {
        "id": "X2nnIQAMpSZ9"
      },
      "outputs": [],
      "source": [
        "data = [\n",
        "    (1001, \"Ana Perez\", 20, \"Engineering\", 8.5),\n",
        "    (1002, \"Luis Gomez\", 22, \"Engineering\", 9.0),\n",
        "    (1003, \"Maria Lopez\", 21, \"Engineering\", 7.8),\n",
        "    (1004, \"Javier Sanchez\", 23, \"Architecture\", 6.5),\n",
        "    (1005, \"Carmen Rodriguez\", 20, \"Architecture\", 8.2)\n",
        "]\n",
        "\n",
        "schema = T.StructType([\n",
        "    T.StructField(\"id\", T.IntegerType(), True),#El True nos indica que el campo puede tomar valores nulos\n",
        "    T.StructField(\"name\", T.StringType(), True),\n",
        "    T.StructField(\"age\", T.IntegerType(), True),\n",
        "    T.StructField(\"degree\", T.StringType(), True),\n",
        "    T.StructField(\"grade\", T.FloatType(), True)\n",
        "])"
      ]
    },
    {
      "cell_type": "markdown",
      "source": [
        "PySpark tiene una forma de operar que se llama **Lazy execution**, que quiere decir qe solo va a ejecutar las operaciones si se lo han dicho explícitamente. En este caso llamamos a la variable df pero no muestra los datos en formato de tabla. Para ello hay que utilizar el método show."
      ],
      "metadata": {
        "id": "QpYBPEwRvXgo"
      }
    },
    {
      "cell_type": "code",
      "source": [
        "df = spark.createDataFrame(data,schema)\n",
        "df\n",
        "df.show()"
      ],
      "metadata": {
        "colab": {
          "base_uri": "https://localhost:8080/"
        },
        "id": "Dz3U4vC4vGZN",
        "outputId": "475912bd-e57f-4a9a-ef91-92600d38780e"
      },
      "execution_count": 96,
      "outputs": [
        {
          "output_type": "stream",
          "name": "stdout",
          "text": [
            "+----+----------------+---+------------+-----+\n",
            "|  id|            name|age|      degree|grade|\n",
            "+----+----------------+---+------------+-----+\n",
            "|1001|       Ana Perez| 20| Engineering|  8.5|\n",
            "|1002|      Luis Gomez| 22| Engineering|  9.0|\n",
            "|1003|     Maria Lopez| 21| Engineering|  7.8|\n",
            "|1004|  Javier Sanchez| 23|Architecture|  6.5|\n",
            "|1005|Carmen Rodriguez| 20|Architecture|  8.2|\n",
            "+----+----------------+---+------------+-----+\n",
            "\n"
          ]
        }
      ]
    },
    {
      "cell_type": "markdown",
      "metadata": {
        "id": "Tbv9ih_srhKB"
      },
      "source": [
        "# Select columns"
      ]
    },
    {
      "cell_type": "markdown",
      "metadata": {
        "id": "N31IuLwnsAxz"
      },
      "source": [
        "**select** operación de transformación, así que es perezosa (**lazy**) y no se ejecuta hasta que no es estrictamente necesario."
      ]
    },
    {
      "cell_type": "code",
      "execution_count": 97,
      "metadata": {
        "colab": {
          "base_uri": "https://localhost:8080/"
        },
        "id": "p7d_Ax8Tr9uZ",
        "outputId": "97866405-6f20-47ee-af6b-642c2bcaf6e3"
      },
      "outputs": [
        {
          "output_type": "execute_result",
          "data": {
            "text/plain": [
              "DataFrame[name: string, id: int]"
            ]
          },
          "metadata": {},
          "execution_count": 97
        }
      ],
      "source": [
        "df.select('name','id')"
      ]
    },
    {
      "cell_type": "markdown",
      "metadata": {
        "id": "DID-o-2lsQuI"
      },
      "source": [
        "Para visualizar la información, debemos indicar una **acción** como **show** para que se ejecute la operación de seleccionar columnas."
      ]
    },
    {
      "cell_type": "code",
      "execution_count": 98,
      "metadata": {
        "colab": {
          "base_uri": "https://localhost:8080/"
        },
        "id": "-6wp9DAhrXa6",
        "outputId": "beac293b-2f6e-4638-cdcf-10144ab70a9e"
      },
      "outputs": [
        {
          "output_type": "stream",
          "name": "stdout",
          "text": [
            "+----------------+----+\n",
            "|            name|  id|\n",
            "+----------------+----+\n",
            "|       Ana Perez|1001|\n",
            "|      Luis Gomez|1002|\n",
            "|     Maria Lopez|1003|\n",
            "|  Javier Sanchez|1004|\n",
            "|Carmen Rodriguez|1005|\n",
            "+----------------+----+\n",
            "\n"
          ]
        }
      ],
      "source": [
        "df.select('name','id').show()"
      ]
    },
    {
      "cell_type": "markdown",
      "metadata": {
        "id": "6C2nr_hysfUl"
      },
      "source": [
        "**F.col** es otra forma de hacer referencia a las columnas de una tabla. No es la forma más concisa de hacer un **select**, pero para otras operaciones sí es necesario utilizarlo."
      ]
    },
    {
      "cell_type": "code",
      "execution_count": 99,
      "metadata": {
        "colab": {
          "base_uri": "https://localhost:8080/"
        },
        "id": "YTNEdI5Qr7xG",
        "outputId": "83fcc5c9-bf23-4fee-f93e-75383b8e4a81"
      },
      "outputs": [
        {
          "output_type": "stream",
          "name": "stdout",
          "text": [
            "+----------------+----+\n",
            "|            name|  id|\n",
            "+----------------+----+\n",
            "|       Ana Perez|1001|\n",
            "|      Luis Gomez|1002|\n",
            "|     Maria Lopez|1003|\n",
            "|  Javier Sanchez|1004|\n",
            "|Carmen Rodriguez|1005|\n",
            "+----------------+----+\n",
            "\n"
          ]
        }
      ],
      "source": [
        "df.select(F.col('name'),F.col('id')).show() #Esta es la forma recomendada"
      ]
    },
    {
      "cell_type": "markdown",
      "metadata": {
        "id": "XmdeXOTTsufX"
      },
      "source": [
        "La forma más concisa de seleccionar columnas es con los corchetes, pero dentro del estilo de programación de PySpark, a veces es más legible usar **select**. Queda a criterio del desarrollador cuál usar en cada momento."
      ]
    },
    {
      "cell_type": "code",
      "execution_count": 100,
      "metadata": {
        "colab": {
          "base_uri": "https://localhost:8080/"
        },
        "id": "KoMTzKPTrmv3",
        "outputId": "d2e08f80-5763-49bc-867e-36ba27158d91"
      },
      "outputs": [
        {
          "output_type": "stream",
          "name": "stdout",
          "text": [
            "+----------------+----+\n",
            "|            name|  id|\n",
            "+----------------+----+\n",
            "|       Ana Perez|1001|\n",
            "|      Luis Gomez|1002|\n",
            "|     Maria Lopez|1003|\n",
            "|  Javier Sanchez|1004|\n",
            "|Carmen Rodriguez|1005|\n",
            "+----------------+----+\n",
            "\n"
          ]
        }
      ],
      "source": [
        "df.select(F.col('name'),F.col('id')).show() #Esta es la forma recomendada"
      ]
    },
    {
      "cell_type": "markdown",
      "metadata": {
        "id": "FSpIA0hwtHJZ"
      },
      "source": [
        "# Filter rows"
      ]
    },
    {
      "cell_type": "markdown",
      "metadata": {
        "id": "4b2hwG23tZ-o"
      },
      "source": [
        "**filter** también es una **transformación**."
      ]
    },
    {
      "cell_type": "code",
      "execution_count": 101,
      "metadata": {
        "colab": {
          "base_uri": "https://localhost:8080/"
        },
        "id": "t9SlvtyzrxBk",
        "outputId": "1b0dbe65-12f7-4409-f532-0ff0f236f0ff"
      },
      "outputs": [
        {
          "output_type": "stream",
          "name": "stdout",
          "text": [
            "+----+-----------+---+-----------+-----+\n",
            "|  id|       name|age|     degree|grade|\n",
            "+----+-----------+---+-----------+-----+\n",
            "|1001|  Ana Perez| 20|Engineering|  8.5|\n",
            "|1002| Luis Gomez| 22|Engineering|  9.0|\n",
            "|1003|Maria Lopez| 21|Engineering|  7.8|\n",
            "+----+-----------+---+-----------+-----+\n",
            "\n"
          ]
        }
      ],
      "source": [
        "df.filter(F.col('degree')=='Engineering').show()"
      ]
    },
    {
      "cell_type": "code",
      "execution_count": 102,
      "metadata": {
        "colab": {
          "base_uri": "https://localhost:8080/"
        },
        "id": "mKqgFWdvr4m5",
        "outputId": "ec60b590-cd84-4a1b-fa98-b227a48066d5"
      },
      "outputs": [
        {
          "output_type": "stream",
          "name": "stdout",
          "text": [
            "+----+-----------+---+-----------+-----+\n",
            "|  id|       name|age|     degree|grade|\n",
            "+----+-----------+---+-----------+-----+\n",
            "|1001|  Ana Perez| 20|Engineering|  8.5|\n",
            "|1002| Luis Gomez| 22|Engineering|  9.0|\n",
            "|1003|Maria Lopez| 21|Engineering|  7.8|\n",
            "+----+-----------+---+-----------+-----+\n",
            "\n"
          ]
        }
      ],
      "source": [
        "df.filter(F.col('degree')=='Engineering').show()"
      ]
    },
    {
      "cell_type": "markdown",
      "metadata": {
        "id": "ftnpDetmt1hm"
      },
      "source": [
        "Se pueden concatenar varias condiciones indicándolas entre **paréntesis**."
      ]
    },
    {
      "cell_type": "code",
      "execution_count": 103,
      "metadata": {
        "colab": {
          "base_uri": "https://localhost:8080/"
        },
        "id": "OaKRj58Rtfvt",
        "outputId": "53018ed5-a953-480c-b5b6-29db9f77ed51"
      },
      "outputs": [
        {
          "output_type": "stream",
          "name": "stdout",
          "text": [
            "+----+----------+---+-----------+-----+\n",
            "|  id|      name|age|     degree|grade|\n",
            "+----+----------+---+-----------+-----+\n",
            "|1001| Ana Perez| 20|Engineering|  8.5|\n",
            "|1002|Luis Gomez| 22|Engineering|  9.0|\n",
            "+----+----------+---+-----------+-----+\n",
            "\n"
          ]
        }
      ],
      "source": [
        "df.filter((F.col('degree')=='Engineering') & (F.col('grade')>8)).show()"
      ]
    },
    {
      "cell_type": "markdown",
      "metadata": {
        "id": "uBnJtx0ju6aZ"
      },
      "source": [
        "**Recuerda**: para que una operación aplique sobre el DataFrame que estamos usando, debemos asignar el resultado después de la operación.\n",
        "```\n",
        "df = df.filter(F.col('degree') == 'Engineering')\n",
        "```\n",
        "\n",
        "Además, ten encuenta lo que devuelve cada operación que aplicas. **filter** devuelve un DataFrame filtrado, pero **show** no devuelve nada, así que si asignas el resultado de **show** a tu variable, la variable valdrá **None**.\n",
        "```\n",
        "df = df.filter(F.col('degree') == 'Engineering').show()  # Ahora df = None\n",
        "```"
      ]
    },
    {
      "cell_type": "code",
      "execution_count": 103,
      "metadata": {
        "id": "YANnwexfu4n5"
      },
      "outputs": [],
      "source": []
    },
    {
      "cell_type": "markdown",
      "metadata": {
        "id": "7ZbsOEtxuiJz"
      },
      "source": [
        "# Create and drop columns"
      ]
    },
    {
      "cell_type": "code",
      "execution_count": 104,
      "metadata": {
        "colab": {
          "base_uri": "https://localhost:8080/"
        },
        "id": "ehLWJ_oKtxWD",
        "outputId": "b2beb738-499f-409a-e491-b687cc55262e"
      },
      "outputs": [
        {
          "output_type": "stream",
          "name": "stdout",
          "text": [
            "+----+----------------+---+------------+-----+------------------+\n",
            "|  id|            name|age|      degree|grade|             stars|\n",
            "+----+----------------+---+------------+-----+------------------+\n",
            "|1001|       Ana Perez| 20| Engineering|  8.5|              4.25|\n",
            "|1002|      Luis Gomez| 22| Engineering|  9.0|               4.5|\n",
            "|1003|     Maria Lopez| 21| Engineering|  7.8|3.9000000953674316|\n",
            "|1004|  Javier Sanchez| 23|Architecture|  6.5|              3.25|\n",
            "|1005|Carmen Rodriguez| 20|Architecture|  8.2| 4.099999904632568|\n",
            "+----+----------------+---+------------+-----+------------------+\n",
            "\n"
          ]
        }
      ],
      "source": [
        "df= df.withColumn('stars', F.col('grade')/2)\n",
        "df.show()"
      ]
    },
    {
      "cell_type": "markdown",
      "metadata": {
        "id": "0y45uG89w0lB"
      },
      "source": [
        "Se pueden concatenar operaciones y hacer referencia a columnas creadas en operaciones previas."
      ]
    },
    {
      "cell_type": "code",
      "execution_count": 105,
      "metadata": {
        "colab": {
          "base_uri": "https://localhost:8080/"
        },
        "id": "kRW-Ea0mwIbF",
        "outputId": "85d87c99-45bd-439c-e2e1-ba7783202d43"
      },
      "outputs": [
        {
          "output_type": "stream",
          "name": "stdout",
          "text": [
            "+----+----------------+---+------------+-----+-----+\n",
            "|  id|            name|age|      degree|grade|stars|\n",
            "+----+----------------+---+------------+-----+-----+\n",
            "|1001|       Ana Perez| 20| Engineering|  8.5|  4.0|\n",
            "|1002|      Luis Gomez| 22| Engineering|  9.0|  5.0|\n",
            "|1003|     Maria Lopez| 21| Engineering|  7.8|  4.0|\n",
            "|1004|  Javier Sanchez| 23|Architecture|  6.5|  3.0|\n",
            "|1005|Carmen Rodriguez| 20|Architecture|  8.2|  4.0|\n",
            "+----+----------------+---+------------+-----+-----+\n",
            "\n"
          ]
        }
      ],
      "source": [
        "df= df.withColumn('stars', F.col('grade')/2)\\\n",
        ".withColumn('stars',F.round(F.col('stars')))#De esta manera evitamos la concatenación de variables\n",
        "df.show()"
      ]
    },
    {
      "cell_type": "markdown",
      "metadata": {
        "id": "u4TMBpF8w74I"
      },
      "source": [
        "Se pueden anidar funciones unas dentro de otras"
      ]
    },
    {
      "cell_type": "code",
      "execution_count": 106,
      "metadata": {
        "colab": {
          "base_uri": "https://localhost:8080/"
        },
        "id": "xPiqsHOLwcqU",
        "outputId": "f674a73f-9873-4a14-e346-6bb53be53267"
      },
      "outputs": [
        {
          "output_type": "stream",
          "name": "stdout",
          "text": [
            "+----+----------------+---+------------+-----+-----+----------+\n",
            "|  id|            name|age|      degree|grade|stars|first_name|\n",
            "+----+----------------+---+------------+-----+-----+----------+\n",
            "|1001|       Ana Perez| 20| Engineering|  8.5|  4.0|       Ana|\n",
            "|1002|      Luis Gomez| 22| Engineering|  9.0|  5.0|      Luis|\n",
            "|1003|     Maria Lopez| 21| Engineering|  7.8|  4.0|     Maria|\n",
            "|1004|  Javier Sanchez| 23|Architecture|  6.5|  3.0|    Javier|\n",
            "|1005|Carmen Rodriguez| 20|Architecture|  8.2|  4.0|    Carmen|\n",
            "+----+----------------+---+------------+-----+-----+----------+\n",
            "\n"
          ]
        }
      ],
      "source": [
        "df.withColumn('first_name',F.split(F.col('name'),' ')[0]).show()"
      ]
    },
    {
      "cell_type": "code",
      "source": [
        "df.withColumn('first_name',F.split(F.col('name'),' ')[0])\\\n",
        ".withColumn('last_name',F.split(F.col('name'),' ')[1]).show()"
      ],
      "metadata": {
        "id": "ivFiugVj0_Dy",
        "outputId": "e01ae4b8-7497-48d6-d568-23ef7c8a6f28",
        "colab": {
          "base_uri": "https://localhost:8080/"
        }
      },
      "execution_count": 107,
      "outputs": [
        {
          "output_type": "stream",
          "name": "stdout",
          "text": [
            "+----+----------------+---+------------+-----+-----+----------+---------+\n",
            "|  id|            name|age|      degree|grade|stars|first_name|last_name|\n",
            "+----+----------------+---+------------+-----+-----+----------+---------+\n",
            "|1001|       Ana Perez| 20| Engineering|  8.5|  4.0|       Ana|    Perez|\n",
            "|1002|      Luis Gomez| 22| Engineering|  9.0|  5.0|      Luis|    Gomez|\n",
            "|1003|     Maria Lopez| 21| Engineering|  7.8|  4.0|     Maria|    Lopez|\n",
            "|1004|  Javier Sanchez| 23|Architecture|  6.5|  3.0|    Javier|  Sanchez|\n",
            "|1005|Carmen Rodriguez| 20|Architecture|  8.2|  4.0|    Carmen|Rodriguez|\n",
            "+----+----------------+---+------------+-----+-----+----------+---------+\n",
            "\n"
          ]
        }
      ]
    },
    {
      "cell_type": "code",
      "execution_count": 108,
      "metadata": {
        "colab": {
          "base_uri": "https://localhost:8080/"
        },
        "id": "2hXrmCaewwdF",
        "outputId": "a47cd920-8b8d-4365-f843-a52e9c81a7c8"
      },
      "outputs": [
        {
          "output_type": "stream",
          "name": "stdout",
          "text": [
            "+----+---+------------+-----+-----+----------+---------+\n",
            "|  id|age|      degree|grade|stars|first_name|last_name|\n",
            "+----+---+------------+-----+-----+----------+---------+\n",
            "|1001| 20| Engineering|  8.5|  4.0|       Ana|    Perez|\n",
            "|1002| 22| Engineering|  9.0|  5.0|      Luis|    Gomez|\n",
            "|1003| 21| Engineering|  7.8|  4.0|     Maria|    Lopez|\n",
            "|1004| 23|Architecture|  6.5|  3.0|    Javier|  Sanchez|\n",
            "|1005| 20|Architecture|  8.2|  4.0|    Carmen|Rodriguez|\n",
            "+----+---+------------+-----+-----+----------+---------+\n",
            "\n"
          ]
        }
      ],
      "source": [
        "df.withColumn('first_name',F.split(F.col('name'),' ')[0])\\\n",
        ".withColumn('last_name',F.split(F.col('name'),' ')[1])\\\n",
        ".drop('name').show()"
      ]
    },
    {
      "cell_type": "markdown",
      "metadata": {
        "id": "c6fcPZgayqI2"
      },
      "source": [
        "# Group by"
      ]
    },
    {
      "cell_type": "markdown",
      "metadata": {
        "id": "ZzV9vAixzLjm"
      },
      "source": [
        "**groupBy** también es una transformación que se ejecuta de forma **lazy**"
      ]
    },
    {
      "cell_type": "code",
      "execution_count": 109,
      "metadata": {
        "colab": {
          "base_uri": "https://localhost:8080/"
        },
        "id": "29b0LMahxPpR",
        "outputId": "318afa22-b6a8-40e9-b430-d7fa1401857b"
      },
      "outputs": [
        {
          "output_type": "stream",
          "name": "stdout",
          "text": [
            "+------------+-----+\n",
            "|      degree|count|\n",
            "+------------+-----+\n",
            "| Engineering|    3|\n",
            "|Architecture|    2|\n",
            "+------------+-----+\n",
            "\n"
          ]
        }
      ],
      "source": [
        "df.groupBy('degree').count().show()"
      ]
    },
    {
      "cell_type": "code",
      "execution_count": 110,
      "metadata": {
        "colab": {
          "base_uri": "https://localhost:8080/"
        },
        "id": "3v4uxBP5zIsp",
        "outputId": "87370557-2695-4dce-d938-54e1cb1e7f7e"
      },
      "outputs": [
        {
          "output_type": "stream",
          "name": "stdout",
          "text": [
            "+------------+-----------------+\n",
            "|      degree|       avg(stars)|\n",
            "+------------+-----------------+\n",
            "| Engineering|4.333333333333333|\n",
            "|Architecture|              3.5|\n",
            "+------------+-----------------+\n",
            "\n"
          ]
        }
      ],
      "source": [
        "df.groupBy('degree').agg(F.avg(F.col('stars'))).show() #Anteriormente para count() no era necesario agg porque count es una operación muy sencilla"
      ]
    },
    {
      "cell_type": "markdown",
      "metadata": {
        "id": "JZAITCkuz1XZ"
      },
      "source": [
        "Se pueden aplicar varios cálculos de agregación"
      ]
    },
    {
      "cell_type": "code",
      "execution_count": 111,
      "metadata": {
        "colab": {
          "base_uri": "https://localhost:8080/"
        },
        "id": "DZ57pPI9zWOV",
        "outputId": "476a943c-0783-48f2-d5ab-de885daeded2"
      },
      "outputs": [
        {
          "output_type": "stream",
          "name": "stdout",
          "text": [
            "+----+----------------+---+------------+-----+-----+\n",
            "|  id|            name|age|      degree|grade|stars|\n",
            "+----+----------------+---+------------+-----+-----+\n",
            "|1001|       Ana Perez| 20| Engineering|  8.5|  4.0|\n",
            "|1002|      Luis Gomez| 22| Engineering|  9.0|  5.0|\n",
            "|1003|     Maria Lopez| 21| Engineering|  7.8|  4.0|\n",
            "|1004|  Javier Sanchez| 23|Architecture|  6.5|  3.0|\n",
            "|1005|Carmen Rodriguez| 20|Architecture|  8.2|  4.0|\n",
            "+----+----------------+---+------------+-----+-----+\n",
            "\n"
          ]
        }
      ],
      "source": [
        "df.groupBy('degree').agg(F.avg(F.col('stars')))\n",
        "new_df= df.withColumnRenamed('avg(stars)','avg_stars').show()"
      ]
    },
    {
      "cell_type": "code",
      "source": [
        "df.groupBy('degree').agg(F.avg(F.col('stars')).alias('avg_stars')).show()"
      ],
      "metadata": {
        "id": "6jFGfJdY2dId",
        "outputId": "f830a687-e3b4-4dfd-cc50-3d51ae59ee2d",
        "colab": {
          "base_uri": "https://localhost:8080/"
        }
      },
      "execution_count": 112,
      "outputs": [
        {
          "output_type": "stream",
          "name": "stdout",
          "text": [
            "+------------+-----------------+\n",
            "|      degree|        avg_stars|\n",
            "+------------+-----------------+\n",
            "| Engineering|4.333333333333333|\n",
            "|Architecture|              3.5|\n",
            "+------------+-----------------+\n",
            "\n"
          ]
        }
      ]
    },
    {
      "cell_type": "code",
      "source": [
        "df.groupBy('degree').agg(\n",
        "  F.avg(F.col('stars')).alias('avg_stars'),\n",
        "  F.min(F.col('stars')).alias('stars_min'),\n",
        "  F.max(F.col('stars')).alias('stars_max')\n",
        ").show()"
      ],
      "metadata": {
        "id": "6mAYE9GD3Hjd",
        "outputId": "6fa23dac-3031-4874-889b-6540f9c89958",
        "colab": {
          "base_uri": "https://localhost:8080/"
        }
      },
      "execution_count": 113,
      "outputs": [
        {
          "output_type": "stream",
          "name": "stdout",
          "text": [
            "+------------+-----------------+---------+---------+\n",
            "|      degree|        avg_stars|stars_min|stars_max|\n",
            "+------------+-----------------+---------+---------+\n",
            "| Engineering|4.333333333333333|      4.0|      5.0|\n",
            "|Architecture|              3.5|      3.0|      4.0|\n",
            "+------------+-----------------+---------+---------+\n",
            "\n"
          ]
        }
      ]
    },
    {
      "cell_type": "markdown",
      "metadata": {
        "id": "tLN54f3d0Epm"
      },
      "source": [
        "# Join"
      ]
    },
    {
      "cell_type": "code",
      "execution_count": 114,
      "metadata": {
        "colab": {
          "base_uri": "https://localhost:8080/"
        },
        "id": "2Ti_fnOazuCB",
        "outputId": "a3e7164a-775e-4581-8761-56915f2e9172"
      },
      "outputs": [
        {
          "output_type": "stream",
          "name": "stdout",
          "text": [
            "+----+-------+\n",
            "|  id|   city|\n",
            "+----+-------+\n",
            "|1001| Huelva|\n",
            "|1002|Sevilla|\n",
            "|1003| Huelva|\n",
            "|1004|Sevilla|\n",
            "|1005| Huelva|\n",
            "+----+-------+\n",
            "\n"
          ]
        }
      ],
      "source": [
        "data = [\n",
        "\n",
        "    (1001, \"Huelva\"),\n",
        "\n",
        "    (1002, \"Sevilla\"),\n",
        "\n",
        "    (1003, \"Huelva\"),\n",
        "\n",
        "    (1004, \"Sevilla\"),\n",
        "\n",
        "    (1005, \"Huelva\")\n",
        "\n",
        "]\n",
        "\n",
        "schema = T.StructType([\n",
        "\n",
        "    T.StructField(\"id\", T.IntegerType(), True),\n",
        "\n",
        "    T.StructField(\"city\", T.StringType(), True)\n",
        "\n",
        "])\n",
        "\n",
        "df_city = spark.createDataFrame(data, schema)\n",
        "\n",
        "df_city.show()\n",
        "\n"
      ]
    },
    {
      "cell_type": "code",
      "source": [
        "df.show()"
      ],
      "metadata": {
        "id": "K744u9qH4Ubu",
        "outputId": "30aa71cb-94d6-4703-a68f-57fd71417e70",
        "colab": {
          "base_uri": "https://localhost:8080/"
        }
      },
      "execution_count": 115,
      "outputs": [
        {
          "output_type": "stream",
          "name": "stdout",
          "text": [
            "+----+----------------+---+------------+-----+-----+\n",
            "|  id|            name|age|      degree|grade|stars|\n",
            "+----+----------------+---+------------+-----+-----+\n",
            "|1001|       Ana Perez| 20| Engineering|  8.5|  4.0|\n",
            "|1002|      Luis Gomez| 22| Engineering|  9.0|  5.0|\n",
            "|1003|     Maria Lopez| 21| Engineering|  7.8|  4.0|\n",
            "|1004|  Javier Sanchez| 23|Architecture|  6.5|  3.0|\n",
            "|1005|Carmen Rodriguez| 20|Architecture|  8.2|  4.0|\n",
            "+----+----------------+---+------------+-----+-----+\n",
            "\n"
          ]
        }
      ]
    },
    {
      "cell_type": "code",
      "execution_count": 116,
      "metadata": {
        "colab": {
          "base_uri": "https://localhost:8080/"
        },
        "id": "hbgwF9qy1D4t",
        "outputId": "d8d06dbc-b985-4765-8c7f-5defeb475715"
      },
      "outputs": [
        {
          "output_type": "stream",
          "name": "stdout",
          "text": [
            "+----+----------------+---+------------+-----+-----+-------+\n",
            "|  id|            name|age|      degree|grade|stars|   city|\n",
            "+----+----------------+---+------------+-----+-----+-------+\n",
            "|1001|       Ana Perez| 20| Engineering|  8.5|  4.0| Huelva|\n",
            "|1002|      Luis Gomez| 22| Engineering|  9.0|  5.0|Sevilla|\n",
            "|1003|     Maria Lopez| 21| Engineering|  7.8|  4.0| Huelva|\n",
            "|1004|  Javier Sanchez| 23|Architecture|  6.5|  3.0|Sevilla|\n",
            "|1005|Carmen Rodriguez| 20|Architecture|  8.2|  4.0| Huelva|\n",
            "+----+----------------+---+------------+-----+-----+-------+\n",
            "\n"
          ]
        }
      ],
      "source": [
        "df.join(df_city, on='id',how='inner').show() #inner significa que si tenemos un estudiante en el df_city pero no esta presente en df, ese mismo no se muestra"
      ]
    },
    {
      "cell_type": "code",
      "source": [
        "df=df.join(df_city, on='id',how='inner')\n",
        "df.show()"
      ],
      "metadata": {
        "id": "gfMqGIKf97nB",
        "outputId": "84a6c0d9-86ad-4d8d-cad7-e1671e777473",
        "colab": {
          "base_uri": "https://localhost:8080/"
        }
      },
      "execution_count": 121,
      "outputs": [
        {
          "output_type": "stream",
          "name": "stdout",
          "text": [
            "+----+----------------+---+------------+-----+-----+-------+\n",
            "|  id|            name|age|      degree|grade|stars|   city|\n",
            "+----+----------------+---+------------+-----+-----+-------+\n",
            "|1001|       Ana Perez| 20| Engineering|  8.5|  4.0| Huelva|\n",
            "|1002|      Luis Gomez| 22| Engineering|  9.0|  5.0|Sevilla|\n",
            "|1003|     Maria Lopez| 21| Engineering|  7.8|  4.0| Huelva|\n",
            "|1004|  Javier Sanchez| 23|Architecture|  6.5|  3.0|Sevilla|\n",
            "|1005|Carmen Rodriguez| 20|Architecture|  8.2|  4.0| Huelva|\n",
            "+----+----------------+---+------------+-----+-----+-------+\n",
            "\n"
          ]
        }
      ]
    },
    {
      "cell_type": "markdown",
      "metadata": {
        "id": "n8aZ9C-w1zCM"
      },
      "source": [
        "# Write"
      ]
    },
    {
      "cell_type": "markdown",
      "metadata": {
        "id": "g3aixW8J2b1W"
      },
      "source": [
        "El resultado de esta escritura será una carpeta llamada **students.csv** que contendrá partes de un csv"
      ]
    },
    {
      "cell_type": "code",
      "execution_count": 117,
      "metadata": {
        "id": "z_c7hgDb1ebn"
      },
      "outputs": [],
      "source": [
        "df.write.csv('/content/data3/csv/student.csv')"
      ]
    },
    {
      "cell_type": "markdown",
      "metadata": {
        "id": "DUXFzjq72n2m"
      },
      "source": [
        "En Spark se indican las rutas para leer o escribir se indican a nivel de **carpeta**, no de fichero"
      ]
    },
    {
      "cell_type": "code",
      "execution_count": 118,
      "metadata": {
        "id": "pSu8zVjS2PGc"
      },
      "outputs": [],
      "source": [
        "df.write.csv('/content/data3/csv/student')"
      ]
    },
    {
      "cell_type": "markdown",
      "metadata": {
        "id": "BkFa2Hnm3Qj5"
      },
      "source": [
        "Automáticamente, Spark escribe la cantidad de ficheros que considere óptima. El equilibrio entre cantidad de **ficheros** y **tamaño de fichero**, es algo crucial en problemas de Big Data para conseguir un **rendimiento**."
      ]
    },
    {
      "cell_type": "code",
      "execution_count": 119,
      "metadata": {
        "id": "782ODCUr23cO",
        "colab": {
          "base_uri": "https://localhost:8080/"
        },
        "outputId": "e7316f14-4e12-453b-b6a3-50a9ca62b4fa"
      },
      "outputs": [
        {
          "output_type": "stream",
          "name": "stdout",
          "text": [
            "+----+----------------+---+------------+---+---+\n",
            "| _c0|             _c1|_c2|         _c3|_c4|_c5|\n",
            "+----+----------------+---+------------+---+---+\n",
            "|1003|     Maria Lopez| 21| Engineering|7.8|4.0|\n",
            "|1004|  Javier Sanchez| 23|Architecture|6.5|3.0|\n",
            "|1005|Carmen Rodriguez| 20|Architecture|8.2|4.0|\n",
            "|1001|       Ana Perez| 20| Engineering|8.5|4.0|\n",
            "|1002|      Luis Gomez| 22| Engineering|9.0|5.0|\n",
            "+----+----------------+---+------------+---+---+\n",
            "\n"
          ]
        }
      ],
      "source": [
        "df_new=spark.read.csv('/content/data3/csv/student')\n",
        "df_new.show()\n"
      ]
    },
    {
      "cell_type": "markdown",
      "metadata": {
        "id": "Pv0pD8sr4VjB"
      },
      "source": [
        "El particionado es otro aspecto crítico en problemas de Big Data. Permite filtrar de forma más eficiente un DataFrame, permitiendo cargar únicamente la partición de interés. Si bien, también se debe **balancear el número de particiones y la profundidad de las particiones** para tener un buen rendimiento.\n",
        "\n",
        "Para ello, se debe saber de antemano **cómo se va a consumir la información** y en base a ello, seleccionar las columnas con las que particionar."
      ]
    },
    {
      "cell_type": "code",
      "execution_count": 122,
      "metadata": {
        "id": "XNaD9FMA3Djn"
      },
      "outputs": [],
      "source": [
        "df.write.partitionBy('city').csv('/content/data3/csv/student_partitioned')\n"
      ]
    },
    {
      "cell_type": "code",
      "source": [
        "df.write.partitionBy('city','degree').csv('/content/data3/csv/student_partitioned_v2')"
      ],
      "metadata": {
        "id": "MF7r8wXZ-ZFu"
      },
      "execution_count": 123,
      "outputs": []
    },
    {
      "cell_type": "markdown",
      "metadata": {
        "id": "121JidcA5LMH"
      },
      "source": [
        "El formato de fichero habitual para trabajar con Spark es **parquet**. Es un formato **binario** optimizado para Spark que permite comprimir la información hasta más de un 90% y leer partes del fichero sin tener que cargarlo al completo. Parquet es un fichero binario."
      ]
    },
    {
      "cell_type": "code",
      "execution_count": 124,
      "metadata": {
        "id": "vo6sYuyi5Sdi"
      },
      "outputs": [],
      "source": [
        "df.write.parquet('content/data3/parquet/students')"
      ]
    },
    {
      "cell_type": "markdown",
      "metadata": {
        "id": "CbWyRIPR9Z_A"
      },
      "source": [
        "Se puede particionar por más de una columna indicándola en el **partitionBy**"
      ]
    },
    {
      "cell_type": "code",
      "execution_count": null,
      "metadata": {
        "id": "fVfjvlCU9h7N"
      },
      "outputs": [],
      "source": []
    },
    {
      "cell_type": "markdown",
      "metadata": {
        "id": "IT-y_8EL5I_N"
      },
      "source": [
        "# Read"
      ]
    },
    {
      "cell_type": "markdown",
      "metadata": {
        "id": "QUoRvazH6IGF"
      },
      "source": [
        "Observa que al haber leído a nivel de partición, la tabla no tiene la columna **city**. Esto se debe a que la **columna de partición no se guarda en el fichero** porque se puede deducir de la partición. Así, se ahorra espacio en disco."
      ]
    },
    {
      "cell_type": "code",
      "execution_count": null,
      "metadata": {
        "id": "5wNYV_-W4Mdp"
      },
      "outputs": [],
      "source": []
    },
    {
      "cell_type": "markdown",
      "metadata": {
        "id": "TmMkIOnz6k7I"
      },
      "source": [
        "Al indicar la ruta raíz (**students**), Spark lee todos las particiones y ficheros y los concatena automáticamente en una sola tabla. De esta forma el desarrollador se despreocupa de concatenar manualmente cada fichero y cada partición."
      ]
    },
    {
      "cell_type": "code",
      "execution_count": null,
      "metadata": {
        "id": "74YDQSz_6Gb2"
      },
      "outputs": [],
      "source": []
    },
    {
      "cell_type": "code",
      "execution_count": null,
      "metadata": {
        "id": "QABwMzFm6i4z"
      },
      "outputs": [],
      "source": []
    }
  ],
  "metadata": {
    "colab": {
      "provenance": [],
      "include_colab_link": true
    },
    "kernelspec": {
      "display_name": "Python 3",
      "name": "python3"
    },
    "language_info": {
      "name": "python"
    }
  },
  "nbformat": 4,
  "nbformat_minor": 0
}