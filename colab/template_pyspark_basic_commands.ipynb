{
  "cells": [
    {
      "cell_type": "markdown",
      "metadata": {
        "colab_type": "text",
        "id": "view-in-github"
      },
      "source": [
        "<a href=\"https://colab.research.google.com/github/raulcastillabravo/pyspark/blob/main/colab/template_pyspark_basic_commands.ipynb\" target=\"_parent\"><img src=\"https://colab.research.google.com/assets/colab-badge.svg\" alt=\"Open In Colab\"/></a>"
      ]
    },
    {
      "cell_type": "markdown",
      "metadata": {
        "id": "EawdhwUzh1HN"
      },
      "source": [
        "# Libraries\n",
        "\n",
        "Always execute this cell at the beginning"
      ]
    },
    {
      "cell_type": "code",
      "execution_count": null,
      "metadata": {
        "colab": {
          "base_uri": "https://localhost:8080/",
          "height": 705
        },
        "collapsed": true,
        "id": "Gaf6sUupOka6",
        "outputId": "a8775b31-e68c-4741-93c0-ae001850cc15"
      },
      "outputs": [
        {
          "name": "stdout",
          "output_type": "stream",
          "text": [
            "\u001b[33m\r0% [Working]\u001b[0m\r            \rHit:1 http://archive.ubuntu.com/ubuntu jammy InRelease\n",
            "\u001b[33m\r0% [Waiting for headers] [Connecting to security.ubuntu.com (185.125.190.83)] [\u001b[0m\r                                                                               \rGet:2 http://archive.ubuntu.com/ubuntu jammy-updates InRelease [128 kB]\n",
            "\r                                                                               \rGet:3 http://security.ubuntu.com/ubuntu jammy-security InRelease [129 kB]\n",
            "\r                                                                               \rGet:4 https://cloud.r-project.org/bin/linux/ubuntu jammy-cran40/ InRelease [3,626 B]\n",
            "\r                                                                               \rGet:5 https://developer.download.nvidia.com/compute/cuda/repos/ubuntu2204/x86_64  InRelease [1,581 B]\n",
            "\u001b[33m\r0% [Waiting for headers] [3 InRelease 14.2 kB/129 kB 11%] [Waiting for headers]\u001b[0m\r                                                                               \rGet:6 http://archive.ubuntu.com/ubuntu jammy-backports InRelease [127 kB]\n",
            "Ign:7 https://r2u.stat.illinois.edu/ubuntu jammy InRelease\n",
            "Get:8 https://r2u.stat.illinois.edu/ubuntu jammy Release [5,713 B]\n",
            "Get:9 https://r2u.stat.illinois.edu/ubuntu jammy Release.gpg [793 B]\n",
            "Hit:10 https://ppa.launchpadcontent.net/deadsnakes/ppa/ubuntu jammy InRelease\n",
            "Hit:11 https://ppa.launchpadcontent.net/graphics-drivers/ppa/ubuntu jammy InRelease\n",
            "Hit:12 https://ppa.launchpadcontent.net/ubuntugis/ppa/ubuntu jammy InRelease\n",
            "Get:13 http://archive.ubuntu.com/ubuntu jammy-updates/main amd64 Packages [2,648 kB]\n",
            "Get:14 http://archive.ubuntu.com/ubuntu jammy-updates/universe amd64 Packages [1,450 kB]\n",
            "Get:15 https://developer.download.nvidia.com/compute/cuda/repos/ubuntu2204/x86_64  Packages [1,032 kB]\n",
            "Get:16 https://r2u.stat.illinois.edu/ubuntu jammy/main amd64 Packages [2,600 kB]\n",
            "Get:17 https://r2u.stat.illinois.edu/ubuntu jammy/main all Packages [8,405 kB]\n",
            "Fetched 16.5 MB in 6s (2,933 kB/s)\n",
            "Reading package lists... Done\n",
            "Building dependency tree... Done\n",
            "Reading state information... Done\n",
            "49 packages can be upgraded. Run 'apt list --upgradable' to see them.\n",
            "\u001b[1;33mW: \u001b[0mSkipping acquire of configured file 'main/source/Sources' as repository 'https://r2u.stat.illinois.edu/ubuntu jammy InRelease' does not seem to provide it (sources.list entry misspelt?)\u001b[0m\n",
            "tar: spark-3.2.1-bin-hadoop3.2.tgz: Cannot open: No such file or directory\n",
            "tar: Error is not recoverable: exiting now\n",
            "Requirement already satisfied: pyspark in /usr/local/lib/python3.10/dist-packages (3.5.3)\n",
            "Requirement already satisfied: py4j==0.10.9.7 in /usr/local/lib/python3.10/dist-packages (from pyspark) (0.10.9.7)\n",
            "Requirement already satisfied: py4j in /usr/local/lib/python3.10/dist-packages (0.10.9.7)\n"
          ]
        },
        {
          "data": {
            "text/html": [
              "\n",
              "            <div>\n",
              "                <p><b>SparkSession - in-memory</b></p>\n",
              "                \n",
              "        <div>\n",
              "            <p><b>SparkContext</b></p>\n",
              "\n",
              "            <p><a href=\"http://e6e26c663e4d:4040\">Spark UI</a></p>\n",
              "\n",
              "            <dl>\n",
              "              <dt>Version</dt>\n",
              "                <dd><code>v3.5.3</code></dd>\n",
              "              <dt>Master</dt>\n",
              "                <dd><code>local[*]</code></dd>\n",
              "              <dt>AppName</dt>\n",
              "                <dd><code>Our First Spark Example</code></dd>\n",
              "            </dl>\n",
              "        </div>\n",
              "        \n",
              "            </div>\n",
              "        "
            ],
            "text/plain": [
              "<pyspark.sql.session.SparkSession at 0x7e8c0a181b70>"
            ]
          },
          "execution_count": 1,
          "metadata": {},
          "output_type": "execute_result"
        }
      ],
      "source": [
        "!sudo apt update\n",
        "!apt-get install openjdk-8-jdk-headless -qq > /dev/null\n",
        "#Check this site for the latest download link https://www.apache.org/dyn/closer.lua/spark/spark-3.2.1/spark-3.2.1-bin-hadoop3.2.tgz\n",
        "!wget -q https://dlcdn.apache.org/spark/spark-3.2.1/spark-3.2.1-bin-hadoop3.2.tgz\n",
        "!tar xf spark-3.2.1-bin-hadoop3.2.tgz\n",
        "!pip install -q findspark\n",
        "!pip install pyspark\n",
        "!pip install py4j\n",
        "\n",
        "import os\n",
        "import sys\n",
        "# os.environ[\"JAVA_HOME\"] = \"/usr/lib/jvm/java-8-openjdk-amd64\"\n",
        "# os.environ[\"SPARK_HOME\"] = \"/content/spark-3.2.1-bin-hadoop3.2\"\n",
        "\n",
        "\n",
        "import findspark\n",
        "findspark.init()\n",
        "findspark.find()\n",
        "\n",
        "import pyspark\n",
        "\n",
        "from pyspark.sql import DataFrame, SparkSession\n",
        "from typing import List\n",
        "import pyspark.sql.types as T\n",
        "import pyspark.sql.functions as F\n",
        "\n",
        "spark= SparkSession \\\n",
        "       .builder \\\n",
        "       .appName(\"Our First Spark Example\") \\\n",
        "       .getOrCreate()\n",
        "\n",
        "spark"
      ]
    },
    {
      "cell_type": "markdown",
      "metadata": {
        "id": "SPNzdS97iKL0"
      },
      "source": [
        "# Create a DataFrame"
      ]
    },
    {
      "cell_type": "code",
      "execution_count": null,
      "metadata": {
        "colab": {
          "base_uri": "https://localhost:8080/"
        },
        "id": "X2nnIQAMpSZ9",
        "outputId": "6f04b1bb-cb41-46ea-bdde-6fd95537c89a"
      },
      "outputs": [
        {
          "name": "stdout",
          "output_type": "stream",
          "text": [
            "+----+----------------+---+------------+-----+\n",
            "|  id|            name|age|      degree|grade|\n",
            "+----+----------------+---+------------+-----+\n",
            "|1001|       Ana Perez| 20| Engineering|  8.5|\n",
            "|1002|      Luis Gomez| 22| Engineering|  9.0|\n",
            "|1003|     Maria Lopez| 21| Engineering|  7.8|\n",
            "|1004|  Javier Sanchez| 23|Architecture|  6.5|\n",
            "|1005|Carmen Rodriguez| 20|Architecture|  8.2|\n",
            "+----+----------------+---+------------+-----+\n",
            "\n"
          ]
        }
      ],
      "source": [
        "data = [\n",
        "    (1001, \"Ana Perez\", 20, \"Engineering\", 8.5),\n",
        "    (1002, \"Luis Gomez\", 22, \"Engineering\", 9.0),\n",
        "    (1003, \"Maria Lopez\", 21, \"Engineering\", 7.8),\n",
        "    (1004, \"Javier Sanchez\", 23, \"Architecture\", 6.5),\n",
        "    (1005, \"Carmen Rodriguez\", 20, \"Architecture\", 8.2)\n",
        "]\n"
      ]
    },
    {
      "cell_type": "markdown",
      "metadata": {
        "id": "Tbv9ih_srhKB"
      },
      "source": [
        "# Select columns"
      ]
    },
    {
      "cell_type": "markdown",
      "metadata": {
        "id": "N31IuLwnsAxz"
      },
      "source": [
        "**select** operación de transformación, así que es perezosa (**lazy**) y no se ejecuta hasta que no es estrictamente necesario."
      ]
    },
    {
      "cell_type": "code",
      "execution_count": null,
      "metadata": {
        "colab": {
          "base_uri": "https://localhost:8080/"
        },
        "id": "p7d_Ax8Tr9uZ",
        "outputId": "f038016a-6bbb-44a9-ce91-f689035a7f6e"
      },
      "outputs": [
        {
          "data": {
            "text/plain": [
              "DataFrame[name: string, degree: string]"
            ]
          },
          "execution_count": 3,
          "metadata": {},
          "output_type": "execute_result"
        }
      ],
      "source": []
    },
    {
      "cell_type": "markdown",
      "metadata": {
        "id": "DID-o-2lsQuI"
      },
      "source": [
        "Para visualizar la información, debemos indicar una **acción** como **show** para que se ejecute la operación de seleccionar columnas."
      ]
    },
    {
      "cell_type": "code",
      "execution_count": null,
      "metadata": {
        "colab": {
          "base_uri": "https://localhost:8080/"
        },
        "id": "-6wp9DAhrXa6",
        "outputId": "cb7fb634-c3ac-470e-a901-cbe31fde7d37"
      },
      "outputs": [
        {
          "name": "stdout",
          "output_type": "stream",
          "text": [
            "+----------------+------------+\n",
            "|            name|      degree|\n",
            "+----------------+------------+\n",
            "|       Ana Perez| Engineering|\n",
            "|      Luis Gomez| Engineering|\n",
            "|     Maria Lopez| Engineering|\n",
            "|  Javier Sanchez|Architecture|\n",
            "|Carmen Rodriguez|Architecture|\n",
            "+----------------+------------+\n",
            "\n"
          ]
        }
      ],
      "source": []
    },
    {
      "cell_type": "markdown",
      "metadata": {
        "id": "6C2nr_hysfUl"
      },
      "source": [
        "**F.col** es otra forma de hacer referencia a las columnas de una tabla. No es la forma más concisa de hacer un **select**, pero para otras operaciones sí es necesario utilizarlo."
      ]
    },
    {
      "cell_type": "code",
      "execution_count": null,
      "metadata": {
        "colab": {
          "base_uri": "https://localhost:8080/"
        },
        "id": "YTNEdI5Qr7xG",
        "outputId": "16732483-d275-40c8-f96a-d69b5fc64081"
      },
      "outputs": [
        {
          "name": "stdout",
          "output_type": "stream",
          "text": [
            "+----------------+------------+\n",
            "|            name|      degree|\n",
            "+----------------+------------+\n",
            "|       Ana Perez| Engineering|\n",
            "|      Luis Gomez| Engineering|\n",
            "|     Maria Lopez| Engineering|\n",
            "|  Javier Sanchez|Architecture|\n",
            "|Carmen Rodriguez|Architecture|\n",
            "+----------------+------------+\n",
            "\n"
          ]
        }
      ],
      "source": []
    },
    {
      "cell_type": "markdown",
      "metadata": {
        "id": "XmdeXOTTsufX"
      },
      "source": [
        "La forma más concisa de seleccionar columnas es con los corchetes, pero dentro del estilo de programación de PySpark, a veces es más legible usar **select**. Queda a criterio del desarrollador cuál usar en cada momento."
      ]
    },
    {
      "cell_type": "code",
      "execution_count": null,
      "metadata": {
        "colab": {
          "base_uri": "https://localhost:8080/"
        },
        "id": "KoMTzKPTrmv3",
        "outputId": "52d41a5f-bfdb-437d-b80f-9d19618fbdce"
      },
      "outputs": [
        {
          "name": "stdout",
          "output_type": "stream",
          "text": [
            "+----------------+------------+\n",
            "|            name|      degree|\n",
            "+----------------+------------+\n",
            "|       Ana Perez| Engineering|\n",
            "|      Luis Gomez| Engineering|\n",
            "|     Maria Lopez| Engineering|\n",
            "|  Javier Sanchez|Architecture|\n",
            "|Carmen Rodriguez|Architecture|\n",
            "+----------------+------------+\n",
            "\n"
          ]
        }
      ],
      "source": []
    },
    {
      "cell_type": "markdown",
      "metadata": {
        "id": "FSpIA0hwtHJZ"
      },
      "source": [
        "# Filter rows"
      ]
    },
    {
      "cell_type": "markdown",
      "metadata": {
        "id": "4b2hwG23tZ-o"
      },
      "source": [
        "**filter** también es una **transformación**."
      ]
    },
    {
      "cell_type": "code",
      "execution_count": null,
      "metadata": {
        "colab": {
          "base_uri": "https://localhost:8080/"
        },
        "id": "t9SlvtyzrxBk",
        "outputId": "4dc40cd9-235c-4476-efc0-871b5532ce39"
      },
      "outputs": [
        {
          "data": {
            "text/plain": [
              "DataFrame[id: int, name: string, age: int, degree: string, grade: float]"
            ]
          },
          "execution_count": 7,
          "metadata": {},
          "output_type": "execute_result"
        }
      ],
      "source": []
    },
    {
      "cell_type": "code",
      "execution_count": null,
      "metadata": {
        "colab": {
          "base_uri": "https://localhost:8080/"
        },
        "id": "mKqgFWdvr4m5",
        "outputId": "5b48d753-07cd-4dd1-d129-239bc8b9c1df"
      },
      "outputs": [
        {
          "name": "stdout",
          "output_type": "stream",
          "text": [
            "+----+-----------+---+-----------+-----+\n",
            "|  id|       name|age|     degree|grade|\n",
            "+----+-----------+---+-----------+-----+\n",
            "|1001|  Ana Perez| 20|Engineering|  8.5|\n",
            "|1002| Luis Gomez| 22|Engineering|  9.0|\n",
            "|1003|Maria Lopez| 21|Engineering|  7.8|\n",
            "+----+-----------+---+-----------+-----+\n",
            "\n"
          ]
        }
      ],
      "source": []
    },
    {
      "cell_type": "markdown",
      "metadata": {
        "id": "ftnpDetmt1hm"
      },
      "source": [
        "Se pueden concatenar varias condiciones indicándolas entre **paréntesis**."
      ]
    },
    {
      "cell_type": "code",
      "execution_count": null,
      "metadata": {
        "colab": {
          "base_uri": "https://localhost:8080/"
        },
        "id": "OaKRj58Rtfvt",
        "outputId": "91658d7f-67a3-4944-b6db-59d7ab39848f"
      },
      "outputs": [
        {
          "name": "stdout",
          "output_type": "stream",
          "text": [
            "+----+----------+---+-----------+-----+\n",
            "|  id|      name|age|     degree|grade|\n",
            "+----+----------+---+-----------+-----+\n",
            "|1001| Ana Perez| 20|Engineering|  8.5|\n",
            "|1002|Luis Gomez| 22|Engineering|  9.0|\n",
            "+----+----------+---+-----------+-----+\n",
            "\n"
          ]
        }
      ],
      "source": []
    },
    {
      "cell_type": "markdown",
      "metadata": {
        "id": "uBnJtx0ju6aZ"
      },
      "source": [
        "**Recuerda**: para que una operación aplique sobre el DataFrame que estamos usando, debemos asignar el resultado después de la operación.\n",
        "```\n",
        "df = df.filter(F.col('degree') == 'Engineering')\n",
        "```\n",
        "\n",
        "Además, ten encuenta lo que devuelve cada operación que aplicas. **filter** devuelve un DataFrame filtrado, pero **show** no devuelve nada, así que si asignas el resultado de **show** a tu variable, la variable valdrá **None**.\n",
        "```\n",
        "df = df.filter(F.col('degree') == 'Engineering').show()  # Ahora df = None\n",
        "```"
      ]
    },
    {
      "cell_type": "code",
      "execution_count": null,
      "metadata": {
        "colab": {
          "base_uri": "https://localhost:8080/"
        },
        "id": "YANnwexfu4n5",
        "outputId": "3e4e644f-3d4a-4645-c03b-0bece147a8dd"
      },
      "outputs": [
        {
          "name": "stdout",
          "output_type": "stream",
          "text": [
            "+----+----------------+---+------------+-----+\n",
            "|  id|            name|age|      degree|grade|\n",
            "+----+----------------+---+------------+-----+\n",
            "|1001|       Ana Perez| 20| Engineering|  8.5|\n",
            "|1002|      Luis Gomez| 22| Engineering|  9.0|\n",
            "|1003|     Maria Lopez| 21| Engineering|  7.8|\n",
            "|1004|  Javier Sanchez| 23|Architecture|  6.5|\n",
            "|1005|Carmen Rodriguez| 20|Architecture|  8.2|\n",
            "+----+----------------+---+------------+-----+\n",
            "\n"
          ]
        }
      ],
      "source": []
    },
    {
      "cell_type": "markdown",
      "metadata": {
        "id": "7ZbsOEtxuiJz"
      },
      "source": [
        "# Create and drop columns"
      ]
    },
    {
      "cell_type": "code",
      "execution_count": null,
      "metadata": {
        "colab": {
          "base_uri": "https://localhost:8080/"
        },
        "id": "ehLWJ_oKtxWD",
        "outputId": "1e3a1f2b-16a0-4184-e0fe-7a49e7fdde92"
      },
      "outputs": [
        {
          "name": "stdout",
          "output_type": "stream",
          "text": [
            "+----+----------------+---+------------+-----+------------------+\n",
            "|  id|            name|age|      degree|grade|             stars|\n",
            "+----+----------------+---+------------+-----+------------------+\n",
            "|1001|       Ana Perez| 20| Engineering|  8.5|              4.25|\n",
            "|1002|      Luis Gomez| 22| Engineering|  9.0|               4.5|\n",
            "|1003|     Maria Lopez| 21| Engineering|  7.8|3.9000000953674316|\n",
            "|1004|  Javier Sanchez| 23|Architecture|  6.5|              3.25|\n",
            "|1005|Carmen Rodriguez| 20|Architecture|  8.2| 4.099999904632568|\n",
            "+----+----------------+---+------------+-----+------------------+\n",
            "\n"
          ]
        }
      ],
      "source": []
    },
    {
      "cell_type": "markdown",
      "metadata": {
        "id": "0y45uG89w0lB"
      },
      "source": [
        "Se pueden concatenar operaciones y hacer referencia a columnas creadas en operaciones previas."
      ]
    },
    {
      "cell_type": "code",
      "execution_count": null,
      "metadata": {
        "colab": {
          "base_uri": "https://localhost:8080/"
        },
        "id": "kRW-Ea0mwIbF",
        "outputId": "96ce4a90-b6ff-4f54-a864-bb40a926fff3"
      },
      "outputs": [
        {
          "name": "stdout",
          "output_type": "stream",
          "text": [
            "+----+----------------+---+------------+-----+-----+\n",
            "|  id|            name|age|      degree|grade|stars|\n",
            "+----+----------------+---+------------+-----+-----+\n",
            "|1001|       Ana Perez| 20| Engineering|  8.5|  4.3|\n",
            "|1002|      Luis Gomez| 22| Engineering|  9.0|  4.5|\n",
            "|1003|     Maria Lopez| 21| Engineering|  7.8|  3.9|\n",
            "|1004|  Javier Sanchez| 23|Architecture|  6.5|  3.3|\n",
            "|1005|Carmen Rodriguez| 20|Architecture|  8.2|  4.1|\n",
            "+----+----------------+---+------------+-----+-----+\n",
            "\n"
          ]
        }
      ],
      "source": []
    },
    {
      "cell_type": "markdown",
      "metadata": {
        "id": "u4TMBpF8w74I"
      },
      "source": [
        "Se pueden anidar funciones unas dentro de otras"
      ]
    },
    {
      "cell_type": "code",
      "execution_count": null,
      "metadata": {
        "colab": {
          "base_uri": "https://localhost:8080/"
        },
        "id": "xPiqsHOLwcqU",
        "outputId": "b450c6a1-9d2c-4077-fed2-0b05d7c39baa"
      },
      "outputs": [
        {
          "name": "stdout",
          "output_type": "stream",
          "text": [
            "+----+----------------+---+------------+-----+-----+\n",
            "|  id|            name|age|      degree|grade|stars|\n",
            "+----+----------------+---+------------+-----+-----+\n",
            "|1001|       Ana Perez| 20| Engineering|  8.5|  4.3|\n",
            "|1002|      Luis Gomez| 22| Engineering|  9.0|  4.5|\n",
            "|1003|     Maria Lopez| 21| Engineering|  7.8|  3.9|\n",
            "|1004|  Javier Sanchez| 23|Architecture|  6.5|  3.3|\n",
            "|1005|Carmen Rodriguez| 20|Architecture|  8.2|  4.1|\n",
            "+----+----------------+---+------------+-----+-----+\n",
            "\n"
          ]
        }
      ],
      "source": []
    },
    {
      "cell_type": "code",
      "execution_count": null,
      "metadata": {
        "colab": {
          "base_uri": "https://localhost:8080/"
        },
        "id": "2hXrmCaewwdF",
        "outputId": "7d1b6a9d-c84e-4e83-bbea-265d9b87c740"
      },
      "outputs": [
        {
          "name": "stdout",
          "output_type": "stream",
          "text": [
            "+----+---+------------+-----+-----+----------+---------+\n",
            "|  id|age|      degree|grade|stars|first_name|last_name|\n",
            "+----+---+------------+-----+-----+----------+---------+\n",
            "|1001| 20| Engineering|  8.5|  4.3|       Ana|    Perez|\n",
            "|1002| 22| Engineering|  9.0|  4.5|      Luis|    Gomez|\n",
            "|1003| 21| Engineering|  7.8|  3.9|     Maria|    Lopez|\n",
            "|1004| 23|Architecture|  6.5|  3.3|    Javier|  Sanchez|\n",
            "|1005| 20|Architecture|  8.2|  4.1|    Carmen|Rodriguez|\n",
            "+----+---+------------+-----+-----+----------+---------+\n",
            "\n"
          ]
        }
      ],
      "source": []
    },
    {
      "cell_type": "markdown",
      "metadata": {
        "id": "c6fcPZgayqI2"
      },
      "source": [
        "# Group by"
      ]
    },
    {
      "cell_type": "markdown",
      "metadata": {
        "id": "ZzV9vAixzLjm"
      },
      "source": [
        "**groupBy** también es una transformación que se ejecuta de forma **lazy**"
      ]
    },
    {
      "cell_type": "code",
      "execution_count": null,
      "metadata": {
        "colab": {
          "base_uri": "https://localhost:8080/"
        },
        "id": "29b0LMahxPpR",
        "outputId": "e30d0070-1a02-43d8-81d4-ef2776241e1d"
      },
      "outputs": [
        {
          "data": {
            "text/plain": [
              "DataFrame[degree: string, avg(stars AS average_stars): double]"
            ]
          },
          "execution_count": 15,
          "metadata": {},
          "output_type": "execute_result"
        }
      ],
      "source": []
    },
    {
      "cell_type": "code",
      "execution_count": null,
      "metadata": {
        "colab": {
          "base_uri": "https://localhost:8080/"
        },
        "id": "3v4uxBP5zIsp",
        "outputId": "5e75bcf7-cb63-4d77-b297-88efe02c205f"
      },
      "outputs": [
        {
          "name": "stdout",
          "output_type": "stream",
          "text": [
            "+------------+---------------------------+\n",
            "|      degree|avg(stars AS average_stars)|\n",
            "+------------+---------------------------+\n",
            "| Engineering|          4.233333333333333|\n",
            "|Architecture|         3.6999999999999997|\n",
            "+------------+---------------------------+\n",
            "\n"
          ]
        }
      ],
      "source": []
    },
    {
      "cell_type": "markdown",
      "metadata": {
        "id": "JZAITCkuz1XZ"
      },
      "source": [
        "Se pueden aplicar varios cálculos de agregación"
      ]
    },
    {
      "cell_type": "code",
      "execution_count": null,
      "metadata": {
        "colab": {
          "base_uri": "https://localhost:8080/"
        },
        "id": "DZ57pPI9zWOV",
        "outputId": "31e7e563-53ea-4d5b-8799-730a5ebbdedb"
      },
      "outputs": [
        {
          "name": "stdout",
          "output_type": "stream",
          "text": [
            "+------------+------------------+---------+---------+\n",
            "|      degree|     average_stars|max_stars|min_stars|\n",
            "+------------+------------------+---------+---------+\n",
            "| Engineering| 4.233333333333333|      4.5|      3.9|\n",
            "|Architecture|3.6999999999999997|      4.1|      3.3|\n",
            "+------------+------------------+---------+---------+\n",
            "\n"
          ]
        }
      ],
      "source": []
    },
    {
      "cell_type": "markdown",
      "metadata": {
        "id": "tLN54f3d0Epm"
      },
      "source": [
        "# Join"
      ]
    },
    {
      "cell_type": "code",
      "execution_count": null,
      "metadata": {
        "colab": {
          "base_uri": "https://localhost:8080/"
        },
        "id": "2Ti_fnOazuCB",
        "outputId": "ac9e2dd3-1677-4aa0-d288-39901b07f5fe"
      },
      "outputs": [
        {
          "name": "stdout",
          "output_type": "stream",
          "text": [
            "+----+-------+\n",
            "|  id|   city|\n",
            "+----+-------+\n",
            "|1001| Huelva|\n",
            "|1002|Sevilla|\n",
            "|1003| Huelva|\n",
            "|1004|Sevilla|\n",
            "|1005| Huelva|\n",
            "+----+-------+\n",
            "\n"
          ]
        }
      ],
      "source": []
    },
    {
      "cell_type": "code",
      "execution_count": null,
      "metadata": {
        "colab": {
          "base_uri": "https://localhost:8080/"
        },
        "id": "hbgwF9qy1D4t",
        "outputId": "b34b581c-4620-450a-bc28-318e07fcdfd0"
      },
      "outputs": [
        {
          "name": "stdout",
          "output_type": "stream",
          "text": [
            "+----+---+------------+-----+-----+----------+---------+-------+\n",
            "|  id|age|      degree|grade|stars|first_name|last_name|   city|\n",
            "+----+---+------------+-----+-----+----------+---------+-------+\n",
            "|1001| 20| Engineering|  8.5|  4.3|       Ana|    Perez| Huelva|\n",
            "|1002| 22| Engineering|  9.0|  4.5|      Luis|    Gomez|Sevilla|\n",
            "|1003| 21| Engineering|  7.8|  3.9|     Maria|    Lopez| Huelva|\n",
            "|1004| 23|Architecture|  6.5|  3.3|    Javier|  Sanchez|Sevilla|\n",
            "|1005| 20|Architecture|  8.2|  4.1|    Carmen|Rodriguez| Huelva|\n",
            "+----+---+------------+-----+-----+----------+---------+-------+\n",
            "\n"
          ]
        }
      ],
      "source": []
    },
    {
      "cell_type": "markdown",
      "metadata": {
        "id": "n8aZ9C-w1zCM"
      },
      "source": [
        "# Write"
      ]
    },
    {
      "cell_type": "markdown",
      "metadata": {
        "id": "g3aixW8J2b1W"
      },
      "source": [
        "El resultado de esta escritura será una carpeta llamada **students.csv** que contendrá partes de un csv"
      ]
    },
    {
      "cell_type": "code",
      "execution_count": null,
      "metadata": {
        "id": "z_c7hgDb1ebn"
      },
      "outputs": [],
      "source": []
    },
    {
      "cell_type": "markdown",
      "metadata": {
        "id": "DUXFzjq72n2m"
      },
      "source": [
        "En Spark se indican las rutas para leer o escribir se indican a nivel de **carpeta**, no de fichero"
      ]
    },
    {
      "cell_type": "code",
      "execution_count": null,
      "metadata": {
        "id": "pSu8zVjS2PGc"
      },
      "outputs": [],
      "source": []
    },
    {
      "cell_type": "markdown",
      "metadata": {
        "id": "BkFa2Hnm3Qj5"
      },
      "source": [
        "Automáticamente, Spark escribe la cantidad de ficheros que considere óptima. El equilibrio entre cantidad de **ficheros** y **tamaño de fichero**, es algo crucial en problemas de Big Data para conseguir un **rendimiento**."
      ]
    },
    {
      "cell_type": "code",
      "execution_count": null,
      "metadata": {
        "id": "782ODCUr23cO"
      },
      "outputs": [],
      "source": []
    },
    {
      "cell_type": "markdown",
      "metadata": {
        "id": "Pv0pD8sr4VjB"
      },
      "source": [
        "El particionado es otro aspecto crítico en problemas de Big Data. Permite filtrar de forma más eficiente un DataFrame, permitiendo cargar únicamente la partición de interés. Si bien, también se debe **balancear el número de particiones y la profundidad de las particiones** para tener un buen rendimiento.\n",
        "\n",
        "Para ello, se debe saber de antemano **cómo se va a consumir la información** y en base a ello, seleccionar las columnas con las que particionar."
      ]
    },
    {
      "cell_type": "code",
      "execution_count": null,
      "metadata": {
        "id": "XNaD9FMA3Djn"
      },
      "outputs": [],
      "source": []
    },
    {
      "cell_type": "markdown",
      "metadata": {
        "id": "121JidcA5LMH"
      },
      "source": [
        "El formato de fichero habitual para trabajar con Spark es **parquet**. Es un formato **binario** optimizado para Spark que permite comprimir la información hasta más de un 90% y leer partes del fichero sin tener que cargarlo al completo."
      ]
    },
    {
      "cell_type": "code",
      "execution_count": null,
      "metadata": {
        "id": "vo6sYuyi5Sdi"
      },
      "outputs": [],
      "source": []
    },
    {
      "cell_type": "markdown",
      "metadata": {
        "id": "CbWyRIPR9Z_A"
      },
      "source": [
        "Se puede particionar por más de una columna indicándola en el **partitionBy**"
      ]
    },
    {
      "cell_type": "code",
      "execution_count": null,
      "metadata": {
        "id": "fVfjvlCU9h7N"
      },
      "outputs": [],
      "source": []
    },
    {
      "cell_type": "markdown",
      "metadata": {
        "id": "IT-y_8EL5I_N"
      },
      "source": [
        "# Read"
      ]
    },
    {
      "cell_type": "markdown",
      "metadata": {
        "id": "QUoRvazH6IGF"
      },
      "source": [
        "Observa que al haber leído a nivel de partición, la tabla no tiene la columna **city**. Esto se debe a que la **columna de partición no se guarda en el fichero** porque se puede deducir de la partición. Así, se ahorra espacio en disco."
      ]
    },
    {
      "cell_type": "code",
      "execution_count": null,
      "metadata": {
        "colab": {
          "base_uri": "https://localhost:8080/"
        },
        "id": "5wNYV_-W4Mdp",
        "outputId": "d2699963-5408-4bfb-91c6-f80bdd9d53cd"
      },
      "outputs": [
        {
          "name": "stdout",
          "output_type": "stream",
          "text": [
            "+----+---+------------+-----+-----+----------+---------+\n",
            "|  id|age|      degree|grade|stars|first_name|last_name|\n",
            "+----+---+------------+-----+-----+----------+---------+\n",
            "|1001| 20| Engineering|  8.5|  4.3|       Ana|    Perez|\n",
            "|1003| 21| Engineering|  7.8|  3.9|     Maria|    Lopez|\n",
            "|1005| 20|Architecture|  8.2|  4.1|    Carmen|Rodriguez|\n",
            "+----+---+------------+-----+-----+----------+---------+\n",
            "\n"
          ]
        }
      ],
      "source": []
    },
    {
      "cell_type": "markdown",
      "metadata": {
        "id": "TmMkIOnz6k7I"
      },
      "source": [
        "Al indicar la ruta raíz (**students**), Spark lee todos las particiones y ficheros y los concatena automáticamente en una sola tabla. De esta forma el desarrollador se despreocupa de concatenar manualmente cada fichero y cada partición."
      ]
    },
    {
      "cell_type": "code",
      "execution_count": null,
      "metadata": {
        "colab": {
          "base_uri": "https://localhost:8080/"
        },
        "id": "74YDQSz_6Gb2",
        "outputId": "505d93ac-3616-467b-814e-21e72d5c59cd"
      },
      "outputs": [
        {
          "name": "stdout",
          "output_type": "stream",
          "text": [
            "+----+---+------------+-----+-----+----------+---------+-------+\n",
            "|  id|age|      degree|grade|stars|first_name|last_name|   city|\n",
            "+----+---+------------+-----+-----+----------+---------+-------+\n",
            "|1001| 20| Engineering|  8.5|  4.3|       Ana|    Perez| Huelva|\n",
            "|1003| 21| Engineering|  7.8|  3.9|     Maria|    Lopez| Huelva|\n",
            "|1005| 20|Architecture|  8.2|  4.1|    Carmen|Rodriguez| Huelva|\n",
            "|1002| 22| Engineering|  9.0|  4.5|      Luis|    Gomez|Sevilla|\n",
            "|1004| 23|Architecture|  6.5|  3.3|    Javier|  Sanchez|Sevilla|\n",
            "+----+---+------------+-----+-----+----------+---------+-------+\n",
            "\n"
          ]
        }
      ],
      "source": []
    },
    {
      "cell_type": "code",
      "execution_count": null,
      "metadata": {
        "id": "QABwMzFm6i4z"
      },
      "outputs": [],
      "source": []
    }
  ],
  "metadata": {
    "colab": {
      "authorship_tag": "ABX9TyOCc4z7UBxSYgM4W5mRSR/i",
      "include_colab_link": true,
      "mount_file_id": "1-KLOshhPGo3rBIgipOuNvUNFaWu7OPs4",
      "provenance": []
    },
    "kernelspec": {
      "display_name": "Python 3",
      "name": "python3"
    },
    "language_info": {
      "name": "python"
    }
  },
  "nbformat": 4,
  "nbformat_minor": 0
}
